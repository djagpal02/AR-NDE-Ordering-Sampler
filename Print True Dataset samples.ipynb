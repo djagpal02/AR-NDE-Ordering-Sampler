{
 "cells": [
  {
   "cell_type": "code",
   "execution_count": 1,
   "id": "c8c2b538",
   "metadata": {},
   "outputs": [],
   "source": [
    "import numpy as np\n",
    "import torch\n",
    "from Made import Made, arguments\n",
    "from datasets import CIFAR10,  MNIST\n",
    "from view_samples import save_samples, CIFAR10_sample_to_image, MNIST_sample_to_image"
   ]
  },
  {
   "cell_type": "code",
   "execution_count": 2,
   "id": "52d00ab1",
   "metadata": {},
   "outputs": [
    {
     "name": "stdout",
     "output_type": "stream",
     "text": [
      "Samples saved to: results/Binary_Mnist_samples.pdf\n"
     ]
    }
   ],
   "source": [
    "data_path = 'data/binarized_mnist.npz'\n",
    "mnist = np.load(data_path)\n",
    "xtr= mnist['train_data']\n",
    "samples = MNIST_sample_to_image(xtr[:100])\n",
    "image_path =  \"Binary_Mnist_samples.pdf\"\n",
    "save_samples(samples, save_path = image_path, ncols=10, nrows=10)\n",
    "    "
   ]
  },
  {
   "cell_type": "code",
   "execution_count": null,
   "id": "2fc955a4",
   "metadata": {},
   "outputs": [],
   "source": []
  },
  {
   "cell_type": "code",
   "execution_count": 3,
   "id": "ad9885fe",
   "metadata": {},
   "outputs": [
    {
     "name": "stdout",
     "output_type": "stream",
     "text": [
      "Samples saved to: results/Mnist_samples.pdf\n"
     ]
    }
   ],
   "source": [
    "mnist = MNIST('./data/mnist.pkl.gz')\n",
    "xtr = mnist.train.x\n",
    "samples = MNIST_sample_to_image(xtr[:100])\n",
    "image_path =  \"Mnist_samples.pdf\"\n",
    "save_samples(samples, save_path = image_path, ncols=10, nrows=10)\n",
    "    "
   ]
  },
  {
   "cell_type": "code",
   "execution_count": null,
   "id": "79f79f72",
   "metadata": {},
   "outputs": [],
   "source": []
  },
  {
   "cell_type": "code",
   "execution_count": 4,
   "id": "3aaee850",
   "metadata": {},
   "outputs": [
    {
     "name": "stdout",
     "output_type": "stream",
     "text": [
      "Samples saved to: results/CIFAR10_samples.pdf\n"
     ]
    }
   ],
   "source": [
    "C = CIFAR10(path = 'data/cifar10/')\n",
    "xtr= C.train.x\n",
    "samples = CIFAR10_sample_to_image(xtr[:100])\n",
    "image_path =  \"CIFAR10_samples.pdf\"\n",
    "save_samples(samples, save_path = image_path, ncols=10, nrows=10)"
   ]
  }
 ],
 "metadata": {
  "kernelspec": {
   "display_name": "Python 3 (ipykernel)",
   "language": "python",
   "name": "python3"
  },
  "language_info": {
   "codemirror_mode": {
    "name": "ipython",
    "version": 3
   },
   "file_extension": ".py",
   "mimetype": "text/x-python",
   "name": "python",
   "nbconvert_exporter": "python",
   "pygments_lexer": "ipython3",
   "version": "3.9.12"
  }
 },
 "nbformat": 4,
 "nbformat_minor": 5
}
